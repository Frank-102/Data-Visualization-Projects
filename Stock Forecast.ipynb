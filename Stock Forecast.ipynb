{
 "cells": [
  {
   "cell_type": "code",
   "execution_count": 34,
   "metadata": {},
   "outputs": [],
   "source": [
    "#code source: https://www.kaggle.com/dhimananubhav/visualizing-analyzing-dow-jones-stocks\n",
    "\n",
    "import numpy as np\n",
    "import math\n",
    "import matplotlib.pyplot as plt\n",
    "%matplotlib inline\n",
    "import time\n",
    "import pandas as pd\n",
    "import seaborn as sb\n",
    "#import pandas.util.testing as tm"
   ]
  },
  {
   "cell_type": "code",
   "execution_count": 59,
   "metadata": {},
   "outputs": [
    {
     "data": {
      "text/html": [
       "<div>\n",
       "<style scoped>\n",
       "    .dataframe tbody tr th:only-of-type {\n",
       "        vertical-align: middle;\n",
       "    }\n",
       "\n",
       "    .dataframe tbody tr th {\n",
       "        vertical-align: top;\n",
       "    }\n",
       "\n",
       "    .dataframe thead th {\n",
       "        text-align: right;\n",
       "    }\n",
       "</style>\n",
       "<table border=\"1\" class=\"dataframe\">\n",
       "  <thead>\n",
       "    <tr style=\"text-align: right;\">\n",
       "      <th></th>\n",
       "      <th>date</th>\n",
       "      <th>open</th>\n",
       "      <th>high</th>\n",
       "      <th>low</th>\n",
       "      <th>close</th>\n",
       "      <th>Adj Close</th>\n",
       "      <th>volume</th>\n",
       "    </tr>\n",
       "  </thead>\n",
       "  <tbody>\n",
       "    <tr>\n",
       "      <th>0</th>\n",
       "      <td>2019-04-15</td>\n",
       "      <td>376.700012</td>\n",
       "      <td>377.899994</td>\n",
       "      <td>373.679993</td>\n",
       "      <td>375.459991</td>\n",
       "      <td>366.666107</td>\n",
       "      <td>3822100</td>\n",
       "    </tr>\n",
       "    <tr>\n",
       "      <th>1</th>\n",
       "      <td>2019-04-16</td>\n",
       "      <td>376.510010</td>\n",
       "      <td>384.640015</td>\n",
       "      <td>375.029999</td>\n",
       "      <td>381.720001</td>\n",
       "      <td>372.779510</td>\n",
       "      <td>7083800</td>\n",
       "    </tr>\n",
       "    <tr>\n",
       "      <th>2</th>\n",
       "      <td>2019-04-17</td>\n",
       "      <td>384.100006</td>\n",
       "      <td>384.190002</td>\n",
       "      <td>377.480011</td>\n",
       "      <td>377.519989</td>\n",
       "      <td>368.677887</td>\n",
       "      <td>4424400</td>\n",
       "    </tr>\n",
       "    <tr>\n",
       "      <th>3</th>\n",
       "      <td>2019-04-18</td>\n",
       "      <td>377.519989</td>\n",
       "      <td>382.170013</td>\n",
       "      <td>377.519989</td>\n",
       "      <td>380.070007</td>\n",
       "      <td>371.168182</td>\n",
       "      <td>4703100</td>\n",
       "    </tr>\n",
       "    <tr>\n",
       "      <th>4</th>\n",
       "      <td>2019-04-22</td>\n",
       "      <td>375.690002</td>\n",
       "      <td>378.950012</td>\n",
       "      <td>374.899994</td>\n",
       "      <td>375.170013</td>\n",
       "      <td>366.382965</td>\n",
       "      <td>4147700</td>\n",
       "    </tr>\n",
       "    <tr>\n",
       "      <th>...</th>\n",
       "      <td>...</td>\n",
       "      <td>...</td>\n",
       "      <td>...</td>\n",
       "      <td>...</td>\n",
       "      <td>...</td>\n",
       "      <td>...</td>\n",
       "      <td>...</td>\n",
       "    </tr>\n",
       "    <tr>\n",
       "      <th>247</th>\n",
       "      <td>2020-04-07</td>\n",
       "      <td>162.000000</td>\n",
       "      <td>164.800003</td>\n",
       "      <td>140.259995</td>\n",
       "      <td>141.580002</td>\n",
       "      <td>141.580002</td>\n",
       "      <td>56699100</td>\n",
       "    </tr>\n",
       "    <tr>\n",
       "      <th>248</th>\n",
       "      <td>2020-04-08</td>\n",
       "      <td>147.509995</td>\n",
       "      <td>154.000000</td>\n",
       "      <td>144.550003</td>\n",
       "      <td>146.869995</td>\n",
       "      <td>146.869995</td>\n",
       "      <td>41351000</td>\n",
       "    </tr>\n",
       "    <tr>\n",
       "      <th>249</th>\n",
       "      <td>2020-04-09</td>\n",
       "      <td>154.710007</td>\n",
       "      <td>157.979996</td>\n",
       "      <td>150.089996</td>\n",
       "      <td>151.839996</td>\n",
       "      <td>151.839996</td>\n",
       "      <td>38049500</td>\n",
       "    </tr>\n",
       "    <tr>\n",
       "      <th>250</th>\n",
       "      <td>2020-04-13</td>\n",
       "      <td>155.500000</td>\n",
       "      <td>156.000000</td>\n",
       "      <td>146.259995</td>\n",
       "      <td>147.330002</td>\n",
       "      <td>147.330002</td>\n",
       "      <td>25951500</td>\n",
       "    </tr>\n",
       "    <tr>\n",
       "      <th>251</th>\n",
       "      <td>2020-04-14</td>\n",
       "      <td>150.509995</td>\n",
       "      <td>152.369995</td>\n",
       "      <td>140.000000</td>\n",
       "      <td>142.229996</td>\n",
       "      <td>142.229996</td>\n",
       "      <td>27884149</td>\n",
       "    </tr>\n",
       "  </tbody>\n",
       "</table>\n",
       "<p>252 rows × 7 columns</p>\n",
       "</div>"
      ],
      "text/plain": [
       "          date        open        high         low       close   Adj Close  \\\n",
       "0   2019-04-15  376.700012  377.899994  373.679993  375.459991  366.666107   \n",
       "1   2019-04-16  376.510010  384.640015  375.029999  381.720001  372.779510   \n",
       "2   2019-04-17  384.100006  384.190002  377.480011  377.519989  368.677887   \n",
       "3   2019-04-18  377.519989  382.170013  377.519989  380.070007  371.168182   \n",
       "4   2019-04-22  375.690002  378.950012  374.899994  375.170013  366.382965   \n",
       "..         ...         ...         ...         ...         ...         ...   \n",
       "247 2020-04-07  162.000000  164.800003  140.259995  141.580002  141.580002   \n",
       "248 2020-04-08  147.509995  154.000000  144.550003  146.869995  146.869995   \n",
       "249 2020-04-09  154.710007  157.979996  150.089996  151.839996  151.839996   \n",
       "250 2020-04-13  155.500000  156.000000  146.259995  147.330002  147.330002   \n",
       "251 2020-04-14  150.509995  152.369995  140.000000  142.229996  142.229996   \n",
       "\n",
       "       volume  \n",
       "0     3822100  \n",
       "1     7083800  \n",
       "2     4424400  \n",
       "3     4703100  \n",
       "4     4147700  \n",
       "..        ...  \n",
       "247  56699100  \n",
       "248  41351000  \n",
       "249  38049500  \n",
       "250  25951500  \n",
       "251  27884149  \n",
       "\n",
       "[252 rows x 7 columns]"
      ]
     },
     "execution_count": 59,
     "metadata": {},
     "output_type": "execute_result"
    }
   ],
   "source": [
    "path = \"BA.csv\"\n",
    "\n",
    "BA = pd.read_csv(path,parse_dates = [\"Date\"])  # make more space in each date\n",
    "\n",
    "#AAPL.head()\n",
    "#AAPL.describe()\n",
    "\n",
    "BA = BA.rename(columns={\"Close\": \"close\",\"Open\":\"open\",\"High\":\"high\",\"Date\":\"date\",\"Low\":\"low\",\"Volume\":\"volume\"})\n",
    "BA"
   ]
  },
  {
   "cell_type": "code",
   "execution_count": 70,
   "metadata": {},
   "outputs": [
    {
     "name": "stdout",
     "output_type": "stream",
     "text": [
      "Empty DataFrame\n",
      "Columns: []\n",
      "Index: [0, 1, 2, 3, 4, 5, 6, 7, 8, 9, 10, 11, 12, 13, 14, 15, 16, 17, 18, 19, 20, 21, 22, 23, 24, 25, 26, 27, 28, 29, 30, 31, 32, 33, 34, 35, 36, 37, 38, 39, 40, 41, 42, 43, 44, 45, 46, 47, 48, 49, 50, 51, 52, 53, 54, 55, 56, 57, 58, 59, 60, 61, 62, 63, 64, 65, 66, 67, 68, 69, 70, 71, 72, 73, 74, 75, 76, 77, 78, 79, 80, 81, 82, 83, 84, 85, 86, 87, 88, 89, 90, 91, 92, 93, 94, 95, 96, 97, 98, 99, ...]\n",
      "\n",
      "[252 rows x 0 columns]\n"
     ]
    }
   ],
   "source": [
    "short_window = 40\n",
    "long_window = 100\n",
    "\n",
    "short_window = 10\n",
    "long_window = 50\n",
    "\n",
    "signals = pd.DataFrame(index=BA.index)\n",
    "print(signals)\n",
    "signals['signal'] = 0.0"
   ]
  },
  {
   "cell_type": "code",
   "execution_count": 71,
   "metadata": {},
   "outputs": [],
   "source": [
    "signals['short_mavg'] = BA['close'].rolling(window=short_window, min_periods=1, center=False).mean()\n",
    "\n",
    "# Create long simple moving average over the long window\n",
    "signals['long_mavg'] = BA['close'].rolling(window=long_window, min_periods=1, center=False).mean()\n",
    "\n",
    "# Create signals\n",
    "signals['signal'][short_window:] = np.where(signals['short_mavg'][short_window:] > signals['long_mavg'][short_window:], 1.0, 0.0)   \n",
    "\n",
    "# Generate trading orders\n",
    "signals['positions'] = signals['signal'].diff()"
   ]
  },
  {
   "cell_type": "code",
   "execution_count": 72,
   "metadata": {},
   "outputs": [],
   "source": [
    "# Set the initial capital\n",
    "initial_capital= float(100000.0)\n",
    "\n",
    "# Create a DataFrame `positions`\n",
    "positions = pd.DataFrame(index=signals.index).fillna(0.0)\n",
    "\n",
    "# Buy a 100 shares\n",
    "positions['BA'] = 100*signals['signal']   \n",
    "  \n",
    "# Initialize the portfolio with value owned   \n",
    "portfolio = positions.multiply(BA['close'], axis=0)\n",
    "\n",
    "# Store the difference in shares owned \n",
    "pos_diff = positions.diff()\n",
    "\n",
    "# Add `holdings` to portfolio\n",
    "portfolio['holdings'] = (positions.multiply(BA['close'], axis=0)).sum(axis=1)\n",
    "\n",
    "# Add `cash` to portfolio\n",
    "portfolio['cash'] = initial_capital - (pos_diff.multiply(AAPL['close'], axis=0)).sum(axis=1).cumsum()   \n",
    "\n",
    "# Add `total` to portfolio\n",
    "portfolio['total'] = portfolio['cash'] + portfolio['holdings']\n",
    "\n",
    "# Add `returns` to portfolio\n",
    "portfolio['returns'] = portfolio['total'].pct_change()"
   ]
  },
  {
   "cell_type": "code",
   "execution_count": 73,
   "metadata": {},
   "outputs": [
    {
     "name": "stdout",
     "output_type": "stream",
     "text": [
      "0.24\n"
     ]
    }
   ],
   "source": [
    "returns = portfolio['returns']\n",
    "\n",
    "# annualized Sharpe ratio\n",
    "sharpe_ratio = np.sqrt(252) * (returns.mean() / returns.std())\n",
    "\n",
    "# Print the Sharpe ratio\n",
    "print(np.round(sharpe_ratio,2))"
   ]
  },
  {
   "cell_type": "code",
   "execution_count": 74,
   "metadata": {},
   "outputs": [
    {
     "data": {
      "image/png": "[encoded data removed]",
      "text/plain": [
       "<Figure size 432x288 with 1 Axes>"
      ]
     },
     "metadata": {
      "needs_background": "light"
     },
     "output_type": "display_data"
    }
   ],
   "source": [
    "# Define a trailing 252 trading day window\n",
    "window = 252\n",
    "\n",
    "# Calculate the max drawdown in the past window days for each day\n",
    "rolling_max = BA['close'].rolling(window, min_periods=1).max()\n",
    "daily_drawdown = BA['close']/rolling_max - 1.0\n",
    "\n",
    "# Calculate the minimum (negative) daily drawdown\n",
    "max_daily_drawdown = daily_drawdown.rolling(window, min_periods=1).min()\n",
    "\n",
    "# Plot the results\n",
    "daily_drawdown.plot()\n",
    "max_daily_drawdown.plot()\n",
    "\n",
    "# Show the plot\n",
    "plt.show()"
   ]
  },
  {
   "cell_type": "code",
   "execution_count": 75,
   "metadata": {},
   "outputs": [
    {
     "ename": "AttributeError",
     "evalue": "'int' object has no attribute 'days'",
     "output_type": "error",
     "traceback": [
      "\u001b[0;31m---------------------------------------------------------------------------\u001b[0m",
      "\u001b[0;31mAttributeError\u001b[0m                            Traceback (most recent call last)",
      "\u001b[0;32m<ipython-input-75-a48d18faa9fc>\u001b[0m in \u001b[0;36m<module>\u001b[0;34m\u001b[0m\n\u001b[1;32m      1\u001b[0m \u001b[0;31m# Get the number of days in `aapl`\u001b[0m\u001b[0;34m\u001b[0m\u001b[0;34m\u001b[0m\u001b[0;34m\u001b[0m\u001b[0m\n\u001b[0;32m----> 2\u001b[0;31m \u001b[0mdays\u001b[0m \u001b[0;34m=\u001b[0m \u001b[0;34m(\u001b[0m\u001b[0mBA\u001b[0m\u001b[0;34m.\u001b[0m\u001b[0mindex\u001b[0m\u001b[0;34m[\u001b[0m\u001b[0;34m-\u001b[0m\u001b[0;36m1\u001b[0m\u001b[0;34m]\u001b[0m \u001b[0;34m-\u001b[0m \u001b[0mBA\u001b[0m\u001b[0;34m.\u001b[0m\u001b[0mindex\u001b[0m\u001b[0;34m[\u001b[0m\u001b[0;36m0\u001b[0m\u001b[0;34m]\u001b[0m\u001b[0;34m)\u001b[0m\u001b[0;34m.\u001b[0m\u001b[0mdays\u001b[0m\u001b[0;34m\u001b[0m\u001b[0;34m\u001b[0m\u001b[0m\n\u001b[0m\u001b[1;32m      3\u001b[0m \u001b[0;34m\u001b[0m\u001b[0m\n\u001b[1;32m      4\u001b[0m \u001b[0;31m#days = (AAPL.index[-1] - AAPL.index[0]).days\u001b[0m\u001b[0;34m\u001b[0m\u001b[0;34m\u001b[0m\u001b[0;34m\u001b[0m\u001b[0m\n\u001b[1;32m      5\u001b[0m \u001b[0;34m\u001b[0m\u001b[0m\n",
      "\u001b[0;31mAttributeError\u001b[0m: 'int' object has no attribute 'days'"
     ]
    }
   ],
   "source": [
    "# Get the number of days in `aapl`\n",
    "days = (BA.index[-1] - BA.index[0]).days\n",
    "\n",
    "#days = (AAPL.index[-1] - AAPL.index[0]).days\n",
    "\n",
    "# Calculate the CAGR \n",
    "cagr = ((((BA['close'][-1]) / BA['close'][1])) ** (365.0/days)) - 1\n",
    "\n",
    "# Print CAGR\n",
    "print(np.round(cagr,3))"
   ]
  },
  {
   "cell_type": "code",
   "execution_count": null,
   "metadata": {},
   "outputs": [],
   "source": [
    "ph_df = BA.drop(['open', 'high', 'low','volume','Adj Close'], axis=1)\n",
    "ph_df.reset_index(inplace=True)\n",
    "ph_df.rename(columns={'close': 'y', 'date': 'ds'}, inplace=True)\n",
    "ph_df['ds'] = pd.to_datetime(ph_df['ds'])\n",
    "ph_df.head()"
   ]
  },
  {
   "cell_type": "code",
   "execution_count": 76,
   "metadata": {},
   "outputs": [
    {
     "name": "stderr",
     "output_type": "stream",
     "text": [
      "INFO:fbprophet:Disabling yearly seasonality. Run prophet with yearly_seasonality=True to override this.\n",
      "INFO:fbprophet:Disabling daily seasonality. Run prophet with daily_seasonality=True to override this.\n"
     ]
    },
    {
     "data": {
      "text/html": [
       "<div>\n",
       "<style scoped>\n",
       "    .dataframe tbody tr th:only-of-type {\n",
       "        vertical-align: middle;\n",
       "    }\n",
       "\n",
       "    .dataframe tbody tr th {\n",
       "        vertical-align: top;\n",
       "    }\n",
       "\n",
       "    .dataframe thead th {\n",
       "        text-align: right;\n",
       "    }\n",
       "</style>\n",
       "<table border=\"1\" class=\"dataframe\">\n",
       "  <thead>\n",
       "    <tr style=\"text-align: right;\">\n",
       "      <th></th>\n",
       "      <th>ds</th>\n",
       "      <th>yhat</th>\n",
       "      <th>yhat_lower</th>\n",
       "      <th>yhat_upper</th>\n",
       "    </tr>\n",
       "  </thead>\n",
       "  <tbody>\n",
       "    <tr>\n",
       "      <th>612</th>\n",
       "      <td>2021-04-10</td>\n",
       "      <td>-815.161618</td>\n",
       "      <td>-1006.981201</td>\n",
       "      <td>-632.493399</td>\n",
       "    </tr>\n",
       "    <tr>\n",
       "      <th>613</th>\n",
       "      <td>2021-04-11</td>\n",
       "      <td>-817.789182</td>\n",
       "      <td>-1011.041389</td>\n",
       "      <td>-624.005975</td>\n",
       "    </tr>\n",
       "    <tr>\n",
       "      <th>614</th>\n",
       "      <td>2021-04-12</td>\n",
       "      <td>-828.635548</td>\n",
       "      <td>-1023.886781</td>\n",
       "      <td>-644.134876</td>\n",
       "    </tr>\n",
       "    <tr>\n",
       "      <th>615</th>\n",
       "      <td>2021-04-13</td>\n",
       "      <td>-829.556706</td>\n",
       "      <td>-1024.836785</td>\n",
       "      <td>-639.164356</td>\n",
       "    </tr>\n",
       "    <tr>\n",
       "      <th>616</th>\n",
       "      <td>2021-04-14</td>\n",
       "      <td>-831.975472</td>\n",
       "      <td>-1025.156729</td>\n",
       "      <td>-640.254570</td>\n",
       "    </tr>\n",
       "  </tbody>\n",
       "</table>\n",
       "</div>"
      ],
      "text/plain": [
       "            ds        yhat   yhat_lower  yhat_upper\n",
       "612 2021-04-10 -815.161618 -1006.981201 -632.493399\n",
       "613 2021-04-11 -817.789182 -1011.041389 -624.005975\n",
       "614 2021-04-12 -828.635548 -1023.886781 -644.134876\n",
       "615 2021-04-13 -829.556706 -1024.836785 -639.164356\n",
       "616 2021-04-14 -831.975472 -1025.156729 -640.254570"
      ]
     },
     "execution_count": 76,
     "metadata": {},
     "output_type": "execute_result"
    }
   ],
   "source": [
    "from fbprophet import Prophet\n",
    "m = Prophet()\n",
    "m.fit(ph_df)\n",
    "\n",
    "# Create Future dates\n",
    "future_prices = m.make_future_dataframe(periods=365)\n",
    "\n",
    "# Predict Prices\n",
    "forecast = m.predict(future_prices)\n",
    "forecast[['ds', 'yhat', 'yhat_lower', 'yhat_upper']].tail()"
   ]
  },
  {
   "cell_type": "code",
   "execution_count": 77,
   "metadata": {},
   "outputs": [
    {
     "name": "stderr",
     "output_type": "stream",
     "text": [
      "/Library/Code/anaconda3/lib/python3.7/site-packages/ipykernel_launcher.py:2: MatplotlibDeprecationWarning:\n",
      "\n",
      "Adding an axes using the same arguments as a previous axes currently reuses the earlier instance.  In a future version, a new instance will always be created and returned.  Meanwhile, this warning can be suppressed, and the future behavior ensured, by passing a unique label to each axes instance.\n",
      "\n"
     ]
    },
    {
     "data": {
      "image/png": "[encoded data removed]",
      "text/plain": [
       "<Figure size 720x432 with 1 Axes>"
      ]
     },
     "metadata": {},
     "output_type": "display_data"
    }
   ],
   "source": [
    "fig = m.plot(forecast)\n",
    "ax1 = fig.add_subplot(111)\n",
    "ax1.set_title(\"Boeing Stock Price Forecast\", fontsize=24)\n",
    "ax1.set_xlabel(\"Date\", fontsize=18)\n",
    "ax1.set_ylabel(\"Close Price\", fontsize=18)\n",
    "from matplotlib.ticker import FormatStrFormatter\n",
    "\n",
    "font_xy = {'family' : 'cursive','stretch': 'ultra-condensed', 'weight' : 'normal','size'   : 36,}\n",
    "\n",
    "\n",
    "plt.gca().yaxis.set_major_formatter(FormatStrFormatter('%d $'))\n",
    "plt.show()"
   ]
  },
  {
   "cell_type": "code",
   "execution_count": null,
   "metadata": {},
   "outputs": [],
   "source": []
  },
  {
   "cell_type": "code",
   "execution_count": null,
   "metadata": {},
   "outputs": [],
   "source": []
  },
  {
   "cell_type": "code",
   "execution_count": null,
   "metadata": {},
   "outputs": [],
   "source": []
  }
 ],
 "metadata": {
  "kernelspec": {
   "display_name": "Python 3",
   "language": "python",
   "name": "python3"
  },
  "language_info": {
   "codemirror_mode": {
    "name": "ipython",
    "version": 3
   },
   "file_extension": ".py",
   "mimetype": "text/x-python",
   "name": "python",
   "nbconvert_exporter": "python",
   "pygments_lexer": "ipython3",
   "version": "3.7.4"
  }
 },
 "nbformat": 4,
 "nbformat_minor": 2
}
